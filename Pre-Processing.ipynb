{
 "cells": [
  {
   "cell_type": "code",
   "execution_count": 1,
   "id": "0b09a67e",
   "metadata": {},
   "outputs": [],
   "source": [
    "import csv\n",
    "import pandas as pd\n",
    "df=pd.read_csv('Dataset/Store.csv', encoding=\"windows-1252\")"
   ]
  },
  {
   "cell_type": "code",
   "execution_count": null,
   "id": "6ba031d4",
   "metadata": {},
   "outputs": [],
   "source": [
    "def fix_single_quotes(text):\n",
    "    if isinstance(text, str):\n",
    "        return text.replace(\"'\", \"''\")\n",
    "    return text\n",
    "\n",
    "df[\"Order Date\"] = pd.to_datetime(df[\"Order Date\"], format=\"%m/%d/%Y\")\n",
    "df[\"Ship Date\"] = pd.to_datetime(df[\"Ship Date\"], format=\"%m/%d/%Y\")\n",
    "\n",
    "df.to_csv(\n",
    "    \"Dataset/Store_clean.csv\",\n",
    "    index=False,\n",
    "    quoting=csv.QUOTE_ALL,  \n",
    "    quotechar='\"',          \n",
    "    doublequote=True,       \n",
    "    encoding=\"utf-8\"\n",
    ")"
   ]
  }
 ],
 "metadata": {
  "kernelspec": {
   "display_name": "Python 3",
   "language": "python",
   "name": "python3"
  },
  "language_info": {
   "codemirror_mode": {
    "name": "ipython",
    "version": 3
   },
   "file_extension": ".py",
   "mimetype": "text/x-python",
   "name": "python",
   "nbconvert_exporter": "python",
   "pygments_lexer": "ipython3",
   "version": "3.11.0"
  }
 },
 "nbformat": 4,
 "nbformat_minor": 5
}
