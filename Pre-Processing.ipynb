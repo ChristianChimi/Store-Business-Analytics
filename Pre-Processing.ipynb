{
 "cells": [
  {
   "cell_type": "code",
   "execution_count": 5,
   "id": "0b09a67e",
   "metadata": {},
   "outputs": [],
   "source": [
    "import csv\n",
    "import pandas as pd\n",
    "df=pd.read_csv('Dataset/Store.csv', encoding=\"windows-1252\")"
   ]
  },
  {
   "cell_type": "code",
   "execution_count": null,
   "id": "6ba031d4",
   "metadata": {},
   "outputs": [
    {
     "name": "stderr",
     "output_type": "stream",
     "text": [
      "C:\\Users\\chris\\AppData\\Local\\Temp\\ipykernel_25452\\3453890033.py:9: FutureWarning: DataFrame.applymap has been deprecated. Use DataFrame.map instead.\n",
      "  df = df.applymap(fix_single_quotes)\n"
     ]
    }
   ],
   "source": [
    "# Funzione per raddoppiare le virgolette singole all'interno dei dati\n",
    "def fix_single_quotes(text):\n",
    "    if isinstance(text, str):\n",
    "        # Raddoppia le virgolette singole\n",
    "        return text.replace(\"'\", \"''\")\n",
    "    return text\n",
    "\n",
    "# Applica la funzione a tutte le colonne del DataFrame\n",
    "df = df.applymap(fix_single_quotes)\n",
    "\n",
    "# Converte le date\n",
    "df[\"Order Date\"] = pd.to_datetime(df[\"Order Date\"], format=\"%m/%d/%Y\")\n",
    "df[\"Ship Date\"] = pd.to_datetime(df[\"Ship Date\"], format=\"%m/%d/%Y\")\n",
    "\n",
    "# Esporta il CSV con le virgolette singole corrette\n",
    "df.to_csv(\n",
    "    \"Dataset/Store_clean.csv\",\n",
    "    index=False,\n",
    "    quoting=csv.QUOTE_ALL,  # Racchiudi tutto tra virgolette doppie\n",
    "    quotechar='\"',          # Usa virgolette doppie per delimitare i campi\n",
    "    doublequote=True,       # Gestisci correttamente le virgolette interne\n",
    "    encoding=\"utf-8\"\n",
    ")"
   ]
  },
  {
   "cell_type": "code",
   "execution_count": null,
   "id": "27745d39",
   "metadata": {},
   "outputs": [],
   "source": []
  }
 ],
 "metadata": {
  "kernelspec": {
   "display_name": "Python 3",
   "language": "python",
   "name": "python3"
  },
  "language_info": {
   "codemirror_mode": {
    "name": "ipython",
    "version": 3
   },
   "file_extension": ".py",
   "mimetype": "text/x-python",
   "name": "python",
   "nbconvert_exporter": "python",
   "pygments_lexer": "ipython3",
   "version": "3.11.0"
  }
 },
 "nbformat": 4,
 "nbformat_minor": 5
}
